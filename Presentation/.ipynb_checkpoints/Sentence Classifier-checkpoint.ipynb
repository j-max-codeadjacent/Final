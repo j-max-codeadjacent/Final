{
 "cells": [
  {
   "cell_type": "code",
   "execution_count": 1,
   "metadata": {
    "collapsed": true
   },
   "outputs": [],
   "source": [
    "title_keys = [\n",
    "'middlemarch', \n",
    "\"portraitofalady\", \n",
    "\"huckleberryfinn\",\n",
    "'emma',\n",
    "'mysteriesofudolpho',\n",
    "'uncletomscabin',\n",
    "'lastofthemohicans',\n",
    "'mobydick',\n",
    "#'janeeyre', #this is not utf8\n",
    "#'fallofthehouseofusher',\n",
    "'nature',\n",
    "'sartorresartus',\n",
    "'walden',\n",
    "'adventuresofsherlockholmes',\n",
    "#'shamela',\n",
    "'pamela',\n",
    "'gulliverstravels',\n",
    "'callofthewild',\n",
    "'treasureisland',\n",
    "'scarletletter',\n",
    "'olaudahequiano',\n",
    "'frontierinamericanhistory',\n",
    "'lifeoffrederickdouglass',\n",
    "'annakarenina',\n",
    "'donquixote',\n",
    "'brotherskaramazov',\n",
    "'lifeofjohnson',\n",
    "'taleoftwocities',\n",
    "'narrativeofthecaptivity',\n",
    "'ageofinnocence',\n",
    "'soulsofblackfolk',\n",
    "'ontheoriginofspecies',\n",
    "'threecontributions',\n",
    "'waroftheworlds',\n",
    "'heartofdarkness',\n",
    "'metamorphosis',\n",
    "'frankenstein', \n",
    "'alicesadventures',\n",
    "'yellowwallpaper',\n",
    "'autobiography',\n",
    "'anenquiry',\n",
    "'josephandrews',\n",
    "'rasselas'\n",
    "\n",
    "\n",
    "]\n",
    "\n",
    "titles = {\n",
    "'middlemarch':(\"George Eliot\", \"1872\"), \n",
    "'portraitofalady':(\"Henry James\", \"1881\"),\n",
    "'huckleberryfinn':(\"Mark Twain\", '1884'),\n",
    "'emma':('Jane Austen', '1815'),\n",
    "'mysteriesofudolpho':('Ann Radcliffe', '1794'),\n",
    "'uncletomscabin':('Harriet Beecher Stowe', '1852'),\n",
    "'lastofthemohicans':('James Fenimore Cooper', '1826'),\n",
    "'mobydick':('Herman Melville', '1851'),\n",
    "'janeeyre':('Charlotte Bronte', '1847'),\n",
    "'fallofthehouseofusher':('Edgar Allan Poe', '1839'),\n",
    "'nature':('Ralph Waldo Emerson', '1836'),\n",
    "'sartorresartus':('Thomas Carlyle', '1836'),\n",
    "'walden':('Henry David Thoreau', '1854'),\n",
    "'adventuresofsherlockholmes':('Arthur Conan Doyle', '1892'),\n",
    "'shamela':('Henry Fielding', '1741'),\n",
    "'pamela':('Samuel Richardson', '1740'),\n",
    "'gulliverstravels':('Jonathan Swift', '1726'),\n",
    "'callofthewild':('Jack London', '1903'),\n",
    "'treasureisland':('Robert Louis Stevenson', '1883'),\n",
    "'scarletletter':('Nathaniel Hawthorne', '1850'),\n",
    "'olaudahequiano':('Olaudah Equiano','1789'),\n",
    "'frontierinamericanhistory':('Frederick Jackson Turner', '1921'),\n",
    "'lifeoffrederickdouglass':('Frederick Douglass', '1845'),\n",
    "'annakarenina':('Leo Tolstoy', '1877'),\n",
    "'donquixote':('Miguel de Cervantes', '1601'),\n",
    "'brotherskaramazov':('Fyodor Dostoyevsky', '1880'),\n",
    "'lifeofjohnson':('James Boswell', '1791'),\n",
    "'taleoftwocities':('Charles Dickens', '1859'),\n",
    "'narrativeofthecaptivity':('Mary Rowlandson', '1682'),\n",
    "'ageofinnocence':('Edith Wharton', '1920'),\n",
    "'soulsofblackfolk':('W. E. B. Du Bois', '1903'),\n",
    "'ontheoriginofspecies':('Charles Darwin', '1859'),\n",
    "'threecontributions':('Sigmund Freud', '1905'),\n",
    "'waroftheworlds':('H. G. Wells','1898'),\n",
    "'heartofdarkness':('Joseph Conrad', '1899'),\n",
    "'metamorphosis':('Franz Kafka', '1915'),\n",
    "'frankenstein':('Mary Shelley', '1818'),\n",
    "'alicesadventures':('Lewis Carroll', '1865'),\n",
    "'yellowwallpaper':('Charlotte Perkins Gilman', '1892'),\n",
    "'autobiography':('John Stuart Mill', '1873'),\n",
    "'anenquiry':('David Hume', '1748'),\n",
    "'josephandrews':('Henry Fielding', '1742'),\n",
    "'rasselas':('Samuel Johnson', '1759')\n",
    "}\n",
    "\n",
    "texts = {\"middlemarch\":(\"/Users/jmax.barry/Documents/Coding/DataScience/Final/new_noquotes/middlemarch.txt\"),\n",
    "\"portraitofalady\":(\"/Users/jmax.barry/Documents/Coding/DataScience/Final/new_noquotes/portraitofalady.txt\"),\n",
    "\"huckleberryfinn\":(\"/Users/jmax.barry/Documents/Coding/DataScience/Final/new_noquotes/huckleberryfinn.txt\"),\n",
    "\"emma\":(\"/Users/jmax.barry/Documents/Coding/DataScience/Final/new_noquotes/emma.txt\"),\n",
    "\"mysteriesofudolpho\":(\"/Users/jmax.barry/Documents/Coding/DataScience/Final/new_noquotes/mysteriesofudolpho.txt\"),\n",
    "\"uncletomscabin\":(\"/Users/jmax.barry/Documents/Coding/DataScience/Final/new_noquotes/uncletomscabin.txt\"),\n",
    "\"lastofthemohicans\":(\"/Users/jmax.barry/Documents/Coding/DataScience/Final/new_noquotes/lastofthemohicans.txt\"),\n",
    "\"mobydick\":(\"/Users/jmax.barry/Documents/Coding/DataScience/Final/new_noquotes/mobydick.txt\"),\n",
    "\"janeeyre\":(\"/Users/jmax.barry/Documents/Coding/DataScience/Final/new_noquotes/mysteriesofudolpho.txt\"),\n",
    "\"fallofthehouseofusher\":(\"/Users/jmax.barry/Documents/Coding/DataScience/Final/new_noquotes/janeeyre.txt\"),\n",
    "\"nature\":(\"/Users/jmax.barry/Documents/Coding/DataScience/Final/new_noquotes/nature.txt\"),\n",
    "\"sartorresartus\":(\"/Users/jmax.barry/Documents/Coding/DataScience/Final/new_noquotes/sartorresartus.txt\"),\n",
    "\"walden\":(\"/Users/jmax.barry/Documents/Coding/DataScience/Final/new_noquotes/walden.txt\"),\n",
    "\"adventuresofsherlockholmes\":(\"/Users/jmax.barry/Documents/Coding/DataScience/Final/new_noquotes/adventuresofsherlockholmes.txt\"),\n",
    "\"shamela\":(\"/Users/jmax.barry/Documents/Coding/DataScience/Final/new_noquotes/shamela.txt\"),\n",
    "\"pamela\":(\"/Users/jmax.barry/Documents/Coding/DataScience/Final/new_noquotes/pamela.txt\"),\n",
    "\"gulliverstravels\":(\"/Users/jmax.barry/Documents/Coding/DataScience/Final/new_noquotes/gulliverstravels.txt\"),\n",
    "\"callofthewild\":(\"/Users/jmax.barry/Documents/Coding/DataScience/Final/new_noquotes/callofthewild.txt\"),\n",
    "\"treasureisland\":(\"/Users/jmax.barry/Documents/Coding/DataScience/Final/new_noquotes/treasureisland.txt\"),\n",
    "\"scarletletter\":(\"/Users/jmax.barry/Documents/Coding/DataScience/Final/new_noquotes/scarletletter.txt\"),\n",
    "\"olaudahequiano\":(\"/Users/jmax.barry/Documents/Coding/DataScience/Final/new_noquotes/olaudahequiano.txt\"),\n",
    "\"frontierinamericanhistory\":(\"/Users/jmax.barry/Documents/Coding/DataScience/Final/new_noquotes/frontierinamericanhistory.txt\"),\n",
    "\"lifeoffrederickdouglass\":(\"/Users/jmax.barry/Documents/Coding/DataScience/Final/new_noquotes/lifeoffrederickdouglass.txt\"),\n",
    "\"annakarenina\":(\"/Users/jmax.barry/Documents/Coding/DataScience/Final/new_noquotes/annakarenina.txt\"),\n",
    "\"donquixote\":(\"/Users/jmax.barry/Documents/Coding/DataScience/Final/new_noquotes/donquixote.txt\"),\n",
    "\"brotherskaramazov\":(\"/Users/jmax.barry/Documents/Coding/DataScience/Final/new_noquotes/brotherskaramazov.txt\"),\n",
    "\"lifeofjohnson\":(\"/Users/jmax.barry/Documents/Coding/DataScience/Final/new_noquotes/lifeofjohnson.txt\"),\n",
    "\"taleoftwocities\":(\"/Users/jmax.barry/Documents/Coding/DataScience/Final/new_noquotes/taleoftwocities.txt\"),\n",
    "\"narrativeofthecaptivity\":(\"/Users/jmax.barry/Documents/Coding/DataScience/Final/new_noquotes/narrativeofthecaptivity.txt\"),\n",
    "\"ageofinnocence\":(\"/Users/jmax.barry/Documents/Coding/DataScience/Final/new_noquotes/ageofinnocence.txt\"),\n",
    "\"soulsofblackfolk\":(\"/Users/jmax.barry/Documents/Coding/DataScience/Final/new_noquotes/soulsofblackfolk.txt\"),\n",
    "\"ontheoriginofspecies\":(\"/Users/jmax.barry/Documents/Coding/DataScience/Final/new_noquotes/ontheoriginofspecies.txt\"),\n",
    "\"threecontributions\":(\"/Users/jmax.barry/Documents/Coding/DataScience/Final/new_noquotes/threecontributions.txt\"),\n",
    "\"waroftheworlds\":(\"/Users/jmax.barry/Documents/Coding/DataScience/Final/new_noquotes/waroftheworlds.txt\"),\n",
    "\"heartofdarkness\":(\"/Users/jmax.barry/Documents/Coding/DataScience/Final/new_noquotes/heartofdarkness.txt\"),\n",
    "\"metamorphosis\":(\"/Users/jmax.barry/Documents/Coding/DataScience/Final/new_noquotes/metamorphosis.txt\"),\n",
    "\"frankenstein\":(\"/Users/jmax.barry/Documents/Coding/DataScience/Final/new_noquotes/frankenstein.txt\"),\n",
    "\"alicesadventures\":(\"/Users/jmax.barry/Documents/Coding/DataScience/Final/new_noquotes/alicesadventures.txt\"),\n",
    "\"yellowwallpaper\":(\"/Users/jmax.barry/Documents/Coding/DataScience/Final/new_noquotes/yellowwallpaper.txt\"),\n",
    "\"autobiography\":(\"/Users/jmax.barry/Documents/Coding/DataScience/Final/new_noquotes/autobiography.txt\"),\n",
    "\"anenquiry\":(\"/Users/jmax.barry/Documents/Coding/DataScience/Final/new_noquotes/anenquiry.txt\"),\n",
    "\"josephandrews\":(\"/Users/jmax.barry/Documents/Coding/DataScience/Final/new_noquotes/josephandrews.txt\"),\n",
    "\"rasselas\":(\"/Users/jmax.barry/Documents/Coding/DataScience/Final/new_noquotes/rasselas.txt\"),\n",
    "\n",
    "}\n",
    "\n",
    "authorwords = {}\n",
    "\n",
    "for title in title_keys:\n",
    "\tbook = open(texts[title]).read().decode('UTF8')\n",
    "\tauthor = titles[title][0]\n",
    "\tauthorwords[title] = [author,book]"
   ]
  },
  {
   "cell_type": "code",
   "execution_count": 2,
   "metadata": {
    "collapsed": false
   },
   "outputs": [
    {
     "data": {
      "text/plain": [
       "['Charlotte Perkins Gilman',\n",
       " u\"It is very seldom that mere ordinary people like John and myself secure\\nancestral halls for the summer.\\n\\nA colonial mansion, a hereditary estate, I would say a haunted house,\\nand reach the height of romantic felicity--but that would be asking too\\nmuch of fate!\\n\\nStill I will proudly declare that there is something queer about it.\\n\\nElse, why should it be let so cheaply? And why have stood so long\\nuntenanted?\\n\\nJohn laughs at me, of course, but one expects that in marriage.\\n\\nJohn is practical in the extreme. He has no patience with faith, an\\nintense horror of superstition, and he scoffs openly at any talk of\\nthings not to be felt and seen and put down in figures.\\n\\nJohn is a physician, and PERHAPS--(I would not say it to a living\\nsoul, of course, but this is dead paper and a great relief to my\\nmind)--PERHAPS that is one reason I do not get well faster.\\n\\nYou see he does not believe I am sick!\\n\\nAnd what can one do?\\n\\nIf a physician of high standing, and one's own husband, assures friends\\nand relatives that there is really nothing the matter with one but\\ntemporary nervous depression--a slight hysterical tendency--what is one\\nto do?\\n\\nMy brother is also a physician, and also of high standing, and he says\\nthe same thing.\\n\\nSo I take phosphates or phosphites--whichever it is, and tonics, and\\njourneys, and air, and exercise, and am absolutely forbidden to work\\nuntil I am well again.\\n\\nPersonally, I disagree with their ideas.\\n\\nPersonally, I believe that congenial work, with excitement and change,\\nwould do me good.\\n\\nBut what is one to do?\\n\\nI did write for a while in spite of them; but it DOES exhaust me a good\\ndeal--having to be so sly about it, or else meet with heavy opposition.\\n\\nI sometimes fancy that in my condition if I had less opposition and more\\nsociety and stimulus--but John says the very worst thing I can do is to\\nthink about my condition, and I confess it always makes me feel bad.\\n\\nSo I will let it alone and talk about the house.\\n\\nThe most beautiful place! It is quite alone, standing well back from the\\nroad, quite three miles from the village. It makes me think of English\\nplaces that you read about, for there are hedges and walls and gates\\nthat lock, and lots of separate little houses for the gardeners and\\npeople.\\n\\nThere is a DELICIOUS garden! I never saw such a garden--large and shady,\\nfull of box-bordered paths, and lined with long grape-covered arbors\\nwith seats under them.\\n\\nThere were greenhouses, too, but they are all broken now.\\n\\nThere was some legal trouble, I believe, something about the heirs and\\ncoheirs; anyhow, the place has been empty for years.\\n\\nThat spoils my ghostliness, I am afraid, but I don't care--there is\\nsomething strange about the house--I can feel it.\\n\\nI even said so to John one moonlight evening, but he said what I felt\\nwas a DRAUGHT, and shut the window.\\n\\nI get unreasonably angry with John sometimes. I'm sure I never used to\\nbe so sensitive. I think it is due to this nervous condition.\\n\\nBut John says if I feel so, I shall neglect proper self-control; so I\\ntake pains to control myself--before him, at least, and that makes me\\nvery tired.\\n\\nI don't like our room a bit. I wanted one downstairs that opened on the\\npiazza and had roses all over the window, and such pretty old-fashioned\\nchintz hangings! but John would not hear of it.\\n\\nHe said there was only one window and not room for two beds, and no near\\nroom for him if he took another.\\n\\nHe is very careful and loving, and hardly lets me stir without special\\ndirection.\\n\\nI have a schedule prescription for each hour in the day; he takes all\\ncare from me, and so I feel basely ungrateful not to value it more.\\n\\nHe said we came here solely on my account, that I was to have perfect\\nrest and all the air I could get. Your exercise depends on your\\nstrength, my dear, said he, and your food somewhat on your appetite;\\nbut air you can absorb all the time. So we took the nursery at the top\\nof the house.\\n\\nIt is a big, airy room, the whole floor nearly, with windows that look\\nall ways, and air and sunshine galore. It was nursery first and then\\nplayroom and gymnasium, I should judge; for the windows are barred for\\nlittle children, and there are rings and things in the walls.\\n\\nThe paint and paper look as if a boys' school had used it. It is\\nstripped off--the paper--in great patches all around the head of my bed,\\nabout as far as I can reach, and in a great place on the other side of\\nthe room low down. I never saw a worse paper in my life.\\n\\nOne of those sprawling flamboyant patterns committing every artistic\\nsin.\\n\\nIt is dull enough to confuse the eye in following, pronounced enough\\nto constantly irritate and provoke study, and when you follow the\\nlame uncertain curves for a little distance they suddenly commit\\nsuicide--plunge off at outrageous angles, destroy themselves in unheard\\nof contradictions.\\n\\nThe color is repellent, almost revolting; a smouldering unclean yellow,\\nstrangely faded by the slow-turning sunlight.\\n\\nIt is a dull yet lurid orange in some places, a sickly sulphur tint in\\nothers.\\n\\nNo wonder the children hated it! I should hate it myself if I had to\\nlive in this room long.\\n\\nThere comes John, and I must put this away,--he hates to have me write a\\nword.\\n\\n\\nWe have been here two weeks, and I haven't felt like writing before,\\nsince that first day.\\n\\nI am sitting by the window now, up in this atrocious nursery, and\\nthere is nothing to hinder my writing as much as I please, save lack of\\nstrength.\\n\\nJohn is away all day, and even some nights when his cases are serious.\\n\\nI am glad my case is not serious!\\n\\nBut these nervous troubles are dreadfully depressing.\\n\\nJohn does not know how much I really suffer. He knows there is no REASON\\nto suffer, and that satisfies him.\\n\\nOf course it is only nervousness. It does weigh on me so not to do my\\nduty in any way!\\n\\nI meant to be such a help to John, such a real rest and comfort, and\\nhere I am a comparative burden already!\\n\\nNobody would believe what an effort it is to do what little I am\\nable,--to dress and entertain, and order things.\\n\\nIt is fortunate Mary is so good with the baby. Such a dear baby!\\n\\nAnd yet I CANNOT be with him, it makes me so nervous.\\n\\nI suppose John never was nervous in his life. He laughs at me so about\\nthis wall-paper!\\n\\nAt first he meant to repaper the room, but afterwards he said that I\\nwas letting it get the better of me, and that nothing was worse for a\\nnervous patient than to give way to such fancies.\\n\\nHe said that after the wall-paper was changed it would be the heavy\\nbedstead, and then the barred windows, and then that gate at the head of\\nthe stairs, and so on.\\n\\nYou know the place is doing you good, he said, and really, dear, I\\ndon't care to renovate the house just for a three months' rental.\\n\\nThen do let us go downstairs, I said, there are such pretty rooms\\nthere.\\n\\nThen he took me in his arms and called me a blessed little goose,\\nand said he would go down to the cellar, if I wished, and have it\\nwhitewashed into the bargain.\\n\\nBut he is right enough about the beds and windows and things.\\n\\nIt is an airy and comfortable room as any one need wish, and, of course,\\nI would not be so silly as to make him uncomfortable just for a whim.\\n\\nI'm really getting quite fond of the big room, all but that horrid\\npaper.\\n\\nOut of one window I can see the garden, those mysterious deepshaded\\narbors, the riotous old-fashioned flowers, and bushes and gnarly trees.\\n\\nOut of another I get a lovely view of the bay and a little private wharf\\nbelonging to the estate. There is a beautiful shaded lane that runs\\ndown there from the house. I always fancy I see people walking in these\\nnumerous paths and arbors, but John has cautioned me not to give way to\\nfancy in the least. He says that with my imaginative power and habit of\\nstory-making, a nervous weakness like mine is sure to lead to all manner\\nof excited fancies, and that I ought to use my will and good sense to\\ncheck the tendency. So I try.\\n\\nI think sometimes that if I were only well enough to write a little it\\nwould relieve the press of ideas and rest me.\\n\\nBut I find I get pretty tired when I try.\\n\\nIt is so discouraging not to have any advice and companionship about\\nmy work. When I get really well, John says we will ask Cousin Henry and\\nJulia down for a long visit; but he says he would as soon put fireworks\\nin my pillow-case as to let me have those stimulating people about now.\\n\\nI wish I could get well faster.\\n\\nBut I must not think about that. This paper looks to me as if it KNEW\\nwhat a vicious influence it had!\\n\\nThere is a recurrent spot where the pattern lolls like a broken neck and\\ntwo bulbous eyes stare at you upside down.\\n\\nI get positively angry with the impertinence of it and the\\neverlastingness. Up and down and sideways they crawl, and those absurd,\\nunblinking eyes are everywhere. There is one place where two breadths\\ndidn't match, and the eyes go all up and down the line, one a little\\nhigher than the other.\\n\\nI never saw so much expression in an inanimate thing before, and we all\\nknow how much expression they have! I used to lie awake as a child and\\nget more entertainment and terror out of blank walls and plain furniture\\nthan most children could find in a toy store.\\n\\nI remember what a kindly wink the knobs of our big, old bureau used to\\nhave, and there was one chair that always seemed like a strong friend.\\n\\nI used to feel that if any of the other things looked too fierce I could\\nalways hop into that chair and be safe.\\n\\nThe furniture in this room is no worse than inharmonious, however, for\\nwe had to bring it all from downstairs. I suppose when this was used\\nas a playroom they had to take the nursery things out, and no wonder! I\\nnever saw such ravages as the children have made here.\\n\\nThe wall-paper, as I said before, is torn off in spots, and it sticketh\\ncloser than a brother--they must have had perseverance as well as\\nhatred.\\n\\nThen the floor is scratched and gouged and splintered, the plaster\\nitself is dug out here and there, and this great heavy bed which is all\\nwe found in the room, looks as if it had been through the wars.\\n\\nBut I don't mind it a bit--only the paper.\\n\\nThere comes John's sister. Such a dear girl as she is, and so careful of\\nme! I must not let her find me writing.\\n\\nShe is a perfect and enthusiastic housekeeper, and hopes for no better\\nprofession. I verily believe she thinks it is the writing which made me\\nsick!\\n\\nBut I can write when she is out, and see her a long way off from these\\nwindows.\\n\\nThere is one that commands the road, a lovely shaded winding road, and\\none that just looks off over the country. A lovely country, too, full of\\ngreat elms and velvet meadows.\\n\\nThis wall-paper has a kind of sub-pattern in a different shade, a\\nparticularly irritating one, for you can only see it in certain lights,\\nand not clearly then.\\n\\nBut in the places where it isn't faded and where the sun is just so--I\\ncan see a strange, provoking, formless sort of figure, that seems to\\nskulk about behind that silly and conspicuous front design.\\n\\nThere's sister on the stairs!\\n\\n\\nWell, the Fourth of July is over! The people are gone and I am tired\\nout. John thought it might do me good to see a little company, so we\\njust had mother and Nellie and the children down for a week.\\n\\nOf course I didn't do a thing. Jennie sees to everything now.\\n\\nBut it tired me all the same.\\n\\nJohn says if I don't pick up faster he shall send me to Weir Mitchell in\\nthe fall.\\n\\nBut I don't want to go there at all. I had a friend who was in his hands\\nonce, and she says he is just like John and my brother, only more so!\\n\\nBesides, it is such an undertaking to go so far.\\n\\nI don't feel as if it was worth while to turn my hand over for anything,\\nand I'm getting dreadfully fretful and querulous.\\n\\nI cry at nothing, and cry most of the time.\\n\\nOf course I don't when John is here, or anybody else, but when I am\\nalone.\\n\\nAnd I am alone a good deal just now. John is kept in town very often by\\nserious cases, and Jennie is good and lets me alone when I want her to.\\n\\nSo I walk a little in the garden or down that lovely lane, sit on the\\nporch under the roses, and lie down up here a good deal.\\n\\nI'm getting really fond of the room in spite of the wall-paper. Perhaps\\nBECAUSE of the wall-paper.\\n\\nIt dwells in my mind so!\\n\\nI lie here on this great immovable bed--it is nailed down, I\\nbelieve--and follow that pattern about by the hour. It is as good as\\ngymnastics, I assure you. I start, we'll say, at the bottom, down in the\\ncorner over there where it has not been touched, and I determine for the\\nthousandth time that I WILL follow that pointless pattern to some sort\\nof a conclusion.\\n\\nI know a little of the principle of design, and I know this thing was\\nnot arranged on any laws of radiation, or alternation, or repetition, or\\nsymmetry, or anything else that I ever heard of.\\n\\nIt is repeated, of course, by the breadths, but not otherwise.\\n\\nLooked at in one way each breadth stands alone, the bloated curves and\\nflourishes--a kind of debased Romanesque with delirium tremens--go\\nwaddling up and down in isolated columns of fatuity.\\n\\nBut, on the other hand, they connect diagonally, and the sprawling\\noutlines run off in great slanting waves of optic horror, like a lot of\\nwallowing seaweeds in full chase.\\n\\nThe whole thing goes horizontally, too, at least it seems so, and I\\nexhaust myself in trying to distinguish the order of its going in that\\ndirection.\\n\\nThey have used a horizontal breadth for a frieze, and that adds\\nwonderfully to the confusion.\\n\\nThere is one end of the room where it is almost intact, and there, when\\nthe crosslights fade and the low sun shines directly upon it, I can\\nalmost fancy radiation after all,--the interminable grotesques seem to\\nform around a common centre and rush off in headlong plunges of equal\\ndistraction.\\n\\nIt makes me tired to follow it. I will take a nap I guess.\\n\\nI don't know why I should write this.\\n\\nI don't want to.\\n\\nI don't feel able.\\n\\nAnd I know John would think it absurd. But I MUST say what I feel and\\nthink in some way--it is such a relief!\\n\\nBut the effort is getting to be greater than the relief.\\n\\nHalf the time now I am awfully lazy, and lie down ever so much.\\n\\nJohn says I musn't lose my strength, and has me take cod liver oil and\\nlots of tonics and things, to say nothing of ale and wine and rare meat.\\n\\nDear John! He loves me very dearly, and hates to have me sick. I tried\\nto have a real earnest reasonable talk with him the other day, and tell\\nhim how I wish he would let me go and make a visit to Cousin Henry and\\nJulia.\\n\\nBut he said I wasn't able to go, nor able to stand it after I got there;\\nand I did not make out a very good case for myself, for I was crying\\nbefore I had finished.\\n\\nIt is getting to be a great effort for me to think straight. Just this\\nnervous weakness I suppose.\\n\\nAnd dear John gathered me up in his arms, and just carried me upstairs\\nand laid me on the bed, and sat by me and read to me till it tired my\\nhead.\\n\\nHe said I was his darling and his comfort and all he had, and that I\\nmust take care of myself for his sake, and keep well.\\n\\nHe says no one but myself can help me out of it, that I must use my will\\nand self-control and not let any silly fancies run away with me.\\n\\nThere's one comfort, the baby is well and happy, and does not have to\\noccupy this nursery with the horrid wall-paper.\\n\\nIf we had not used it, that blessed child would have! What a fortunate\\nescape! Why, I wouldn't have a child of mine, an impressionable little\\nthing, live in such a room for worlds.\\n\\nI never thought of it before, but it is lucky that John kept me here\\nafter all, I can stand it so much easier than a baby, you see.\\n\\nOf course I never mention it to them any more--I am too wise,--but I\\nkeep watch of it all the same.\\n\\nThere are things in that paper that nobody knows but me, or ever will.\\n\\nBehind that outside pattern the dim shapes get clearer every day.\\n\\nIt is always the same shape, only very numerous.\\n\\nAnd it is like a woman stooping down and creeping about behind that\\npattern. I don't like it a bit. I wonder--I begin to think--I wish John\\nwould take me away from here!\\n\\nIt is so hard to talk with John about my case, because he is so wise,\\nand because he loves me so.\\n\\nBut I tried it last night.\\n\\nIt was moonlight. The moon shines in all around just as the sun does.\\n\\nI hate to see it sometimes, it creeps so slowly, and always comes in by\\none window or another.\\n\\nJohn was asleep and I hated to waken him, so I kept still and watched\\nthe moonlight on that undulating wall-paper till I felt creepy.\\n\\nThe faint figure behind seemed to shake the pattern, just as if she\\nwanted to get out.\\n\\nI got up softly and went to feel and see if the paper DID move, and when\\nI came back John was awake.\\n\\nWhat is it, little girl? he said. Don't go walking about like\\nthat--you'll get cold.\\n\\nI though it was a good time to talk, so I told him that I really was not\\ngaining here, and that I wished he would take me away.\\n\\nWhy darling! said he, our lease will be up in three weeks, and I\\ncan't see how to leave before.\\n\\nThe repairs are not done at home, and I cannot possibly leave town just\\nnow. Of course if you were in any danger, I could and would, but you\\nreally are better, dear, whether you can see it or not. I am a doctor,\\ndear, and I know. You are gaining flesh and color, your appetite is\\nbetter, I feel really much easier about you.\\n\\nI don't weigh a bit more, said I, nor as much; and my appetite may be\\nbetter in the evening when you are here, but it is worse in the morning\\nwhen you are away!\\n\\nBless her little heart! said he with a big hug, she shall be as sick\\nas she pleases! But now let's improve the shining hours by going to\\nsleep, and talk about it in the morning!\\n\\nAnd you won't go away? I asked gloomily.\\n\\nWhy, how can I, dear? It is only three weeks more and then we will\\ntake a nice little trip of a few days while Jennie is getting the house\\nready. Really dear you are better!\\n\\nBetter in body perhaps-- I began, and stopped short, for he sat up\\nstraight and looked at me with such a stern, reproachful look that I\\ncould not say another word.\\n\\nMy darling, said he, I beg of you, for my sake and for our child's\\nsake, as well as for your own, that you will never for one instant\\nlet that idea enter your mind! There is nothing so dangerous, so\\nfascinating, to a temperament like yours. It is a false and foolish\\nfancy. Can you not trust me as a physician when I tell you so?\\n\\nSo of course I said no more on that score, and we went to sleep before\\nlong. He thought I was asleep first, but I wasn't, and lay there for\\nhours trying to decide whether that front pattern and the back pattern\\nreally did move together or separately.\\n\\n\\nOn a pattern like this, by daylight, there is a lack of sequence, a\\ndefiance of law, that is a constant irritant to a normal mind.\\n\\nThe color is hideous enough, and unreliable enough, and infuriating\\nenough, but the pattern is torturing.\\n\\nYou think you have mastered it, but just as you get well underway in\\nfollowing, it turns a back-somersault and there you are. It slaps you\\nin the face, knocks you down, and tramples upon you. It is like a bad\\ndream.\\n\\nThe outside pattern is a florid arabesque, reminding one of a fungus.\\nIf you can imagine a toadstool in joints, an interminable string of\\ntoadstools, budding and sprouting in endless convolutions--why, that is\\nsomething like it.\\n\\nThat is, sometimes!\\n\\nThere is one marked peculiarity about this paper, a thing nobody seems\\nto notice but myself, and that is that it changes as the light changes.\\n\\nWhen the sun shoots in through the east window--I always watch for that\\nfirst long, straight ray--it changes so quickly that I never can quite\\nbelieve it.\\n\\nThat is why I watch it always.\\n\\nBy moonlight--the moon shines in all night when there is a moon--I\\nwouldn't know it was the same paper.\\n\\nAt night in any kind of light, in twilight, candle light, lamplight, and\\nworst of all by moonlight, it becomes bars! The outside pattern I mean,\\nand the woman behind it is as plain as can be.\\n\\nI didn't realize for a long time what the thing was that showed behind,\\nthat dim sub-pattern, but now I am quite sure it is a woman.\\n\\nBy daylight she is subdued, quiet. I fancy it is the pattern that keeps\\nher so still. It is so puzzling. It keeps me quiet by the hour.\\n\\nI lie down ever so much now. John says it is good for me, and to sleep\\nall I can.\\n\\nIndeed he started the habit by making me lie down for an hour after each\\nmeal.\\n\\nIt is a very bad habit I am convinced, for you see I don't sleep.\\n\\nAnd that cultivates deceit, for I don't tell them I'm awake--O no!\\n\\nThe fact is I am getting a little afraid of John.\\n\\nHe seems very queer sometimes, and even Jennie has an inexplicable look.\\n\\nIt strikes me occasionally, just as a scientific hypothesis,--that\\nperhaps it is the paper!\\n\\nI have watched John when he did not know I was looking, and come into\\nthe room suddenly on the most innocent excuses, and I've caught him\\nseveral times LOOKING AT THE PAPER! And Jennie too. I caught Jennie with\\nher hand on it once.\\n\\nShe didn't know I was in the room, and when I asked her in a quiet, a\\nvery quiet voice, with the most restrained manner possible, what she\\nwas doing with the paper--she turned around as if she had been caught\\nstealing, and looked quite angry--asked me why I should frighten her so!\\n\\nThen she said that the paper stained everything it touched, that she had\\nfound yellow smooches on all my clothes and John's, and she wished we\\nwould be more careful!\\n\\nDid not that sound innocent? But I know she was studying that pattern,\\nand I am determined that nobody shall find it out but myself!\\n\\n\\nLife is very much more exciting now than it used to be. You see I have\\nsomething more to expect, to look forward to, to watch. I really do eat\\nbetter, and am more quiet than I was.\\n\\nJohn is so pleased to see me improve! He laughed a little the other day,\\nand said I seemed to be flourishing in spite of my wall-paper.\\n\\nI turned it off with a laugh. I had no intention of telling him it was\\nBECAUSE of the wall-paper--he would make fun of me. He might even want\\nto take me away.\\n\\nI don't want to leave now until I have found it out. There is a week\\nmore, and I think that will be enough.\\n\\n\\nI'm feeling ever so much better! I don't sleep much at night, for it\\nis so interesting to watch developments; but I sleep a good deal in the\\ndaytime.\\n\\nIn the daytime it is tiresome and perplexing.\\n\\nThere are always new shoots on the fungus, and new shades of yellow\\nall over it. I cannot keep count of them, though I have tried\\nconscientiously.\\n\\nIt is the strangest yellow, that wall-paper! It makes me think of all\\nthe yellow things I ever saw--not beautiful ones like buttercups, but\\nold foul, bad yellow things.\\n\\nBut there is something else about that paper--the smell! I noticed it\\nthe moment we came into the room, but with so much air and sun it was\\nnot bad. Now we have had a week of fog and rain, and whether the windows\\nare open or not, the smell is here.\\n\\nIt creeps all over the house.\\n\\nI find it hovering in the dining-room, skulking in the parlor, hiding in\\nthe hall, lying in wait for me on the stairs.\\n\\nIt gets into my hair.\\n\\nEven when I go to ride, if I turn my head suddenly and surprise\\nit--there is that smell!\\n\\nSuch a peculiar odor, too! I have spent hours in trying to analyze it,\\nto find what it smelled like.\\n\\nIt is not bad--at first, and very gentle, but quite the subtlest, most\\nenduring odor I ever met.\\n\\nIn this damp weather it is awful, I wake up in the night and find it\\nhanging over me.\\n\\nIt used to disturb me at first. I thought seriously of burning the\\nhouse--to reach the smell.\\n\\nBut now I am used to it. The only thing I can think of that it is like\\nis the COLOR of the paper! A yellow smell.\\n\\nThere is a very funny mark on this wall, low down, near the mopboard.\\nA streak that runs round the room. It goes behind every piece of\\nfurniture, except the bed, a long, straight, even SMOOCH, as if it had\\nbeen rubbed over and over.\\n\\nI wonder how it was done and who did it, and what they did it for. Round\\nand round and round--round and round and round--it makes me dizzy!\\n\\n\\nI really have discovered something at last.\\n\\nThrough watching so much at night, when it changes so, I have finally\\nfound out.\\n\\nThe front pattern DOES move--and no wonder! The woman behind shakes it!\\n\\nSometimes I think there are a great many women behind, and sometimes\\nonly one, and she crawls around fast, and her crawling shakes it all\\nover.\\n\\nThen in the very bright spots she keeps still, and in the very shady\\nspots she just takes hold of the bars and shakes them hard.\\n\\nAnd she is all the time trying to climb through. But nobody could climb\\nthrough that pattern--it strangles so; I think that is why it has so\\nmany heads.\\n\\nThey get through, and then the pattern strangles them off and turns them\\nupside down, and makes their eyes white!\\n\\nIf those heads were covered or taken off it would not be half so bad.\\n\\n\\nI think that woman gets out in the daytime!\\n\\nAnd I'll tell you why--privately--I've seen her!\\n\\nI can see her out of every one of my windows!\\n\\nIt is the same woman, I know, for she is always creeping, and most women\\ndo not creep by daylight.\\n\\nI see her on that long road under the trees, creeping along, and when a\\ncarriage comes she hides under the blackberry vines.\\n\\nI don't blame her a bit. It must be very humiliating to be caught\\ncreeping by daylight!\\n\\nI always lock the door when I creep by daylight. I can't do it at night,\\nfor I know John would suspect something at once.\\n\\nAnd John is so queer now, that I don't want to irritate him. I wish he\\nwould take another room! Besides, I don't want anybody to get that woman\\nout at night but myself.\\n\\nI often wonder if I could see her out of all the windows at once.\\n\\nBut, turn as fast as I can, I can only see out of one at one time.\\n\\nAnd though I always see her, she MAY be able to creep faster than I can\\nturn!\\n\\nI have watched her sometimes away off in the open country, creeping as\\nfast as a cloud shadow in a high wind.\\n\\nIf only that top pattern could be gotten off from the under one! I mean\\nto try it, little by little.\\n\\nI have found out another funny thing, but I shan't tell it this time! It\\ndoes not do to trust people too much.\\n\\nThere are only two more days to get this paper off, and I believe John\\nis beginning to notice. I don't like the look in his eyes.\\n\\nAnd I heard him ask Jennie a lot of professional questions about me. She\\nhad a very good report to give.\\n\\nShe said I slept a good deal in the daytime.\\n\\nJohn knows I don't sleep very well at night, for all I'm so quiet!\\n\\nHe asked me all sorts of questions, too, and pretended to be very loving\\nand kind.\\n\\nAs if I couldn't see through him!\\n\\nStill, I don't wonder he acts so, sleeping under this paper for three\\nmonths.\\n\\nIt only interests me, but I feel sure John and Jennie are secretly\\naffected by it.\\n\\n\\nHurrah! This is the last day, but it is enough. John is to stay in town\\nover night, and won't be out until this evening.\\n\\nJennie wanted to sleep with me--the sly thing! but I told her I should\\nundoubtedly rest better for a night all alone.\\n\\nThat was clever, for really I wasn't alone a bit! As soon as it was\\nmoonlight and that poor thing began to crawl and shake the pattern, I\\ngot up and ran to help her.\\n\\nI pulled and she shook, I shook and she pulled, and before morning we\\nhad peeled off yards of that paper.\\n\\nA strip about as high as my head and half around the room.\\n\\nAnd then when the sun came and that awful pattern began to laugh at me,\\nI declared I would finish it to-day!\\n\\nWe go away to-morrow, and they are moving all my furniture down again to\\nleave things as they were before.\\n\\nJennie looked at the wall in amazement, but I told her merrily that I\\ndid it out of pure spite at the vicious thing.\\n\\nShe laughed and said she wouldn't mind doing it herself, but I must not\\nget tired.\\n\\nHow she betrayed herself that time!\\n\\nBut I am here, and no person touches this paper but me--not ALIVE!\\n\\nShe tried to get me out of the room--it was too patent! But I said it\\nwas so quiet and empty and clean now that I believed I would lie down\\nagain and sleep all I could; and not to wake me even for dinner--I would\\ncall when I woke.\\n\\nSo now she is gone, and the servants are gone, and the things are gone,\\nand there is nothing left but that great bedstead nailed down, with the\\ncanvas mattress we found on it.\\n\\nWe shall sleep downstairs to-night, and take the boat home to-morrow.\\n\\nI quite enjoy the room, now it is bare again.\\n\\nHow those children did tear about here!\\n\\nThis bedstead is fairly gnawed!\\n\\nBut I must get to work.\\n\\nI have locked the door and thrown the key down into the front path.\\n\\nI don't want to go out, and I don't want to have anybody come in, till\\nJohn comes.\\n\\nI want to astonish him.\\n\\nI've got a rope up here that even Jennie did not find. If that woman\\ndoes get out, and tries to get away, I can tie her!\\n\\nBut I forgot I could not reach far without anything to stand on!\\n\\nThis bed will NOT move!\\n\\nI tried to lift and push it until I was lame, and then I got so angry I\\nbit off a little piece at one corner--but it hurt my teeth.\\n\\nThen I peeled off all the paper I could reach standing on the floor.\\nIt sticks horribly and the pattern just enjoys it! All those strangled\\nheads and bulbous eyes and waddling fungus growths just shriek with\\nderision!\\n\\nI am getting angry enough to do something desperate. To jump out of the\\nwindow would be admirable exercise, but the bars are too strong even to\\ntry.\\n\\nBesides I wouldn't do it. Of course not. I know well enough that a step\\nlike that is improper and might be misconstrued.\\n\\nI don't like to LOOK out of the windows even--there are so many of those\\ncreeping women, and they creep so fast.\\n\\nI wonder if they all come out of that wall-paper as I did?\\n\\nBut I am securely fastened now by my well-hidden rope--you don't get ME\\nout in the road there!\\n\\nI suppose I shall have to get back behind the pattern when it comes\\nnight, and that is hard!\\n\\nIt is so pleasant to be out in this great room and creep around as I\\nplease!\\n\\nI don't want to go outside. I won't, even if Jennie asks me to.\\n\\nFor outside you have to creep on the ground, and everything is green\\ninstead of yellow.\\n\\nBut here I can creep smoothly on the floor, and my shoulder just fits in\\nthat long smooch around the wall, so I cannot lose my way.\\n\\nWhy there's John at the door!\\n\\nIt is no use, young man, you can't open it!\\n\\nHow he does call and pound!\\n\\nNow he's crying for an axe.\\n\\nIt would be a shame to break down that beautiful door!\\n\\nJohn dear! said I in the gentlest voice, the key is down by the front\\nsteps, under a plantain leaf!\\n\\nThat silenced him for a few moments.\\n\\nThen he said--very quietly indeed, Open the door, my darling!\\n\\nI can't, said I. The key is down by the front door under a plantain\\nleaf!\\n\\nAnd then I said it again, several times, very gently and slowly, and\\nsaid it so often that he had to go and see, and he got it of course, and\\ncame in. He stopped short by the door.\\n\\nWhat is the matter? he cried. For God's sake, what are you doing!\\n\\nI kept on creeping just the same, but I looked at him over my shoulder.\\n\\nI've got out at last, said I, in spite of you and Jane. And I've\\npulled off most of the paper, so you can't put me back!\\n\\nNow why should that man have fainted? But he did, and right across my\\npath by the wall, so that I had to creep over him every time!\\n\\n\\n\\n\\n\\n\"]"
      ]
     },
     "execution_count": 2,
     "metadata": {},
     "output_type": "execute_result"
    }
   ],
   "source": [
    "authorwords['yellowwallpaper']"
   ]
  },
  {
   "cell_type": "markdown",
   "metadata": {},
   "source": [
    "### Sentence Data"
   ]
  },
  {
   "cell_type": "code",
   "execution_count": 3,
   "metadata": {
    "collapsed": true
   },
   "outputs": [],
   "source": [
    "import nltk\n",
    "sent_byauthor = []\n",
    "for x in authorwords:\n",
    "\tsent_tokens = nltk.sent_tokenize(authorwords[x][1])\n",
    "\tfor sentence in sent_tokens:\n",
    "\t\tsent_length = len(sentence)\n",
    "\t\tquestion = 0\n",
    "\t\tex_point = 0\n",
    "\t\tcolon = 0\n",
    "\t\tsemi_colon = 0\n",
    "\t\tif '?' in sentence:\n",
    "\t\t\tquestion = 1\n",
    "\t\tif '!' in sentence:\n",
    "\t\t\tex_point = 1\n",
    "\t\tif ':' in sentence:\n",
    "\t\t\tcolon = 1\n",
    "\t\tif ';' in sentence:\n",
    "\t\t\tsemi_colon = 1\n",
    "\n",
    "\t\tsent_byauthor.append([x, authorwords[x][0], sentence, sent_length, question, ex_point, colon, semi_colon])"
   ]
  },
  {
   "cell_type": "code",
   "execution_count": 4,
   "metadata": {
    "collapsed": true
   },
   "outputs": [],
   "source": [
    "import pandas as pd\n",
    "\n",
    "df = pd.DataFrame(sent_byauthor)\n",
    "df.columns = ['book', 'author', 'sentence', 'sentence_length',  \"question\", \"ex_point\", \"colon\", \"semi_colon\"]"
   ]
  },
  {
   "cell_type": "code",
   "execution_count": 5,
   "metadata": {
    "collapsed": false
   },
   "outputs": [
    {
     "data": {
      "text/html": [
       "<div>\n",
       "<table border=\"1\" class=\"dataframe\">\n",
       "  <thead>\n",
       "    <tr style=\"text-align: right;\">\n",
       "      <th></th>\n",
       "      <th>book</th>\n",
       "      <th>author</th>\n",
       "      <th>sentence</th>\n",
       "      <th>sentence_length</th>\n",
       "      <th>question</th>\n",
       "      <th>ex_point</th>\n",
       "      <th>colon</th>\n",
       "      <th>semi_colon</th>\n",
       "    </tr>\n",
       "  </thead>\n",
       "  <tbody>\n",
       "    <tr>\n",
       "      <th>0</th>\n",
       "      <td>callofthewild</td>\n",
       "      <td>Jack London</td>\n",
       "      <td>Buck did not read the newspapers, or he would ...</td>\n",
       "      <td>209</td>\n",
       "      <td>0</td>\n",
       "      <td>0</td>\n",
       "      <td>0</td>\n",
       "      <td>0</td>\n",
       "    </tr>\n",
       "    <tr>\n",
       "      <th>1</th>\n",
       "      <td>callofthewild</td>\n",
       "      <td>Jack London</td>\n",
       "      <td>Because men, groping in the Arctic darkness, h...</td>\n",
       "      <td>194</td>\n",
       "      <td>0</td>\n",
       "      <td>0</td>\n",
       "      <td>0</td>\n",
       "      <td>0</td>\n",
       "    </tr>\n",
       "    <tr>\n",
       "      <th>2</th>\n",
       "      <td>callofthewild</td>\n",
       "      <td>Jack London</td>\n",
       "      <td>These men wanted\\ndogs, and the dogs they want...</td>\n",
       "      <td>150</td>\n",
       "      <td>0</td>\n",
       "      <td>0</td>\n",
       "      <td>0</td>\n",
       "      <td>0</td>\n",
       "    </tr>\n",
       "    <tr>\n",
       "      <th>3</th>\n",
       "      <td>callofthewild</td>\n",
       "      <td>Jack London</td>\n",
       "      <td>Buck lived at a big house in the sun-kissed Sa...</td>\n",
       "      <td>63</td>\n",
       "      <td>0</td>\n",
       "      <td>0</td>\n",
       "      <td>0</td>\n",
       "      <td>0</td>\n",
       "    </tr>\n",
       "    <tr>\n",
       "      <th>4</th>\n",
       "      <td>callofthewild</td>\n",
       "      <td>Jack London</td>\n",
       "      <td>Judge\\nMiller’s place, it was called.</td>\n",
       "      <td>36</td>\n",
       "      <td>0</td>\n",
       "      <td>0</td>\n",
       "      <td>0</td>\n",
       "      <td>0</td>\n",
       "    </tr>\n",
       "  </tbody>\n",
       "</table>\n",
       "</div>"
      ],
      "text/plain": [
       "            book       author  \\\n",
       "0  callofthewild  Jack London   \n",
       "1  callofthewild  Jack London   \n",
       "2  callofthewild  Jack London   \n",
       "3  callofthewild  Jack London   \n",
       "4  callofthewild  Jack London   \n",
       "\n",
       "                                            sentence  sentence_length  \\\n",
       "0  Buck did not read the newspapers, or he would ...              209   \n",
       "1  Because men, groping in the Arctic darkness, h...              194   \n",
       "2  These men wanted\\ndogs, and the dogs they want...              150   \n",
       "3  Buck lived at a big house in the sun-kissed Sa...               63   \n",
       "4              Judge\\nMiller’s place, it was called.               36   \n",
       "\n",
       "   question  ex_point  colon  semi_colon  \n",
       "0         0         0      0           0  \n",
       "1         0         0      0           0  \n",
       "2         0         0      0           0  \n",
       "3         0         0      0           0  \n",
       "4         0         0      0           0  "
      ]
     },
     "execution_count": 5,
     "metadata": {},
     "output_type": "execute_result"
    }
   ],
   "source": [
    "df.head()"
   ]
  },
  {
   "cell_type": "code",
   "execution_count": 6,
   "metadata": {
    "collapsed": false
   },
   "outputs": [
    {
     "data": {
      "text/html": [
       "<div>\n",
       "<table border=\"1\" class=\"dataframe\">\n",
       "  <thead>\n",
       "    <tr style=\"text-align: right;\">\n",
       "      <th></th>\n",
       "      <th>book</th>\n",
       "      <th>author</th>\n",
       "      <th>sentence</th>\n",
       "      <th>sentence_length</th>\n",
       "      <th>question</th>\n",
       "      <th>ex_point</th>\n",
       "      <th>colon</th>\n",
       "      <th>semi_colon</th>\n",
       "      <th>auth_Ann Radcliffe</th>\n",
       "      <th>auth_Arthur Conan Doyle</th>\n",
       "      <th>...</th>\n",
       "      <th>auth_Miguel de Cervantes</th>\n",
       "      <th>auth_Nathaniel Hawthorne</th>\n",
       "      <th>auth_Olaudah Equiano</th>\n",
       "      <th>auth_Ralph Waldo Emerson</th>\n",
       "      <th>auth_Robert Louis Stevenson</th>\n",
       "      <th>auth_Samuel Johnson</th>\n",
       "      <th>auth_Samuel Richardson</th>\n",
       "      <th>auth_Sigmund Freud</th>\n",
       "      <th>auth_Thomas Carlyle</th>\n",
       "      <th>auth_W. E. B. Du Bois</th>\n",
       "    </tr>\n",
       "  </thead>\n",
       "  <tbody>\n",
       "    <tr>\n",
       "      <th>20000</th>\n",
       "      <td>treasureisland</td>\n",
       "      <td>Robert Louis Stevenson</td>\n",
       "      <td>I'm risking my life and the lives of these goo...</td>\n",
       "      <td>71</td>\n",
       "      <td>0</td>\n",
       "      <td>0</td>\n",
       "      <td>0</td>\n",
       "      <td>0</td>\n",
       "      <td>0</td>\n",
       "      <td>0</td>\n",
       "      <td>...</td>\n",
       "      <td>0</td>\n",
       "      <td>0</td>\n",
       "      <td>0</td>\n",
       "      <td>0</td>\n",
       "      <td>1</td>\n",
       "      <td>0</td>\n",
       "      <td>0</td>\n",
       "      <td>0</td>\n",
       "      <td>0</td>\n",
       "      <td>0</td>\n",
       "    </tr>\n",
       "    <tr>\n",
       "      <th>20001</th>\n",
       "      <td>treasureisland</td>\n",
       "      <td>Robert Louis Stevenson</td>\n",
       "      <td>There was a sudden scuffle, a sound of blows, ...</td>\n",
       "      <td>175</td>\n",
       "      <td>0</td>\n",
       "      <td>0</td>\n",
       "      <td>0</td>\n",
       "      <td>0</td>\n",
       "      <td>0</td>\n",
       "      <td>0</td>\n",
       "      <td>...</td>\n",
       "      <td>0</td>\n",
       "      <td>0</td>\n",
       "      <td>0</td>\n",
       "      <td>0</td>\n",
       "      <td>1</td>\n",
       "      <td>0</td>\n",
       "      <td>0</td>\n",
       "      <td>0</td>\n",
       "      <td>0</td>\n",
       "      <td>0</td>\n",
       "    </tr>\n",
       "    <tr>\n",
       "      <th>20002</th>\n",
       "      <td>treasureisland</td>\n",
       "      <td>Robert Louis Stevenson</td>\n",
       "      <td>I'm with you, sir, said he.</td>\n",
       "      <td>27</td>\n",
       "      <td>0</td>\n",
       "      <td>0</td>\n",
       "      <td>0</td>\n",
       "      <td>0</td>\n",
       "      <td>0</td>\n",
       "      <td>0</td>\n",
       "      <td>...</td>\n",
       "      <td>0</td>\n",
       "      <td>0</td>\n",
       "      <td>0</td>\n",
       "      <td>0</td>\n",
       "      <td>1</td>\n",
       "      <td>0</td>\n",
       "      <td>0</td>\n",
       "      <td>0</td>\n",
       "      <td>0</td>\n",
       "      <td>0</td>\n",
       "    </tr>\n",
       "    <tr>\n",
       "      <th>20003</th>\n",
       "      <td>treasureisland</td>\n",
       "      <td>Robert Louis Stevenson</td>\n",
       "      <td>And the next moment he and the captain had dro...</td>\n",
       "      <td>101</td>\n",
       "      <td>0</td>\n",
       "      <td>0</td>\n",
       "      <td>0</td>\n",
       "      <td>0</td>\n",
       "      <td>0</td>\n",
       "      <td>0</td>\n",
       "      <td>...</td>\n",
       "      <td>0</td>\n",
       "      <td>0</td>\n",
       "      <td>0</td>\n",
       "      <td>0</td>\n",
       "      <td>1</td>\n",
       "      <td>0</td>\n",
       "      <td>0</td>\n",
       "      <td>0</td>\n",
       "      <td>0</td>\n",
       "      <td>0</td>\n",
       "    </tr>\n",
       "    <tr>\n",
       "      <th>20004</th>\n",
       "      <td>treasureisland</td>\n",
       "      <td>Robert Louis Stevenson</td>\n",
       "      <td>We were clear out of the ship, but not yet ash...</td>\n",
       "      <td>66</td>\n",
       "      <td>0</td>\n",
       "      <td>0</td>\n",
       "      <td>0</td>\n",
       "      <td>0</td>\n",
       "      <td>0</td>\n",
       "      <td>0</td>\n",
       "      <td>...</td>\n",
       "      <td>0</td>\n",
       "      <td>0</td>\n",
       "      <td>0</td>\n",
       "      <td>0</td>\n",
       "      <td>1</td>\n",
       "      <td>0</td>\n",
       "      <td>0</td>\n",
       "      <td>0</td>\n",
       "      <td>0</td>\n",
       "      <td>0</td>\n",
       "    </tr>\n",
       "  </tbody>\n",
       "</table>\n",
       "<p>5 rows × 48 columns</p>\n",
       "</div>"
      ],
      "text/plain": [
       "                 book                  author  \\\n",
       "20000  treasureisland  Robert Louis Stevenson   \n",
       "20001  treasureisland  Robert Louis Stevenson   \n",
       "20002  treasureisland  Robert Louis Stevenson   \n",
       "20003  treasureisland  Robert Louis Stevenson   \n",
       "20004  treasureisland  Robert Louis Stevenson   \n",
       "\n",
       "                                                sentence  sentence_length  \\\n",
       "20000  I'm risking my life and the lives of these goo...               71   \n",
       "20001  There was a sudden scuffle, a sound of blows, ...              175   \n",
       "20002                        I'm with you, sir, said he.               27   \n",
       "20003  And the next moment he and the captain had dro...              101   \n",
       "20004  We were clear out of the ship, but not yet ash...               66   \n",
       "\n",
       "       question  ex_point  colon  semi_colon  auth_Ann Radcliffe  \\\n",
       "20000         0         0      0           0                   0   \n",
       "20001         0         0      0           0                   0   \n",
       "20002         0         0      0           0                   0   \n",
       "20003         0         0      0           0                   0   \n",
       "20004         0         0      0           0                   0   \n",
       "\n",
       "       auth_Arthur Conan Doyle          ...            \\\n",
       "20000                        0          ...             \n",
       "20001                        0          ...             \n",
       "20002                        0          ...             \n",
       "20003                        0          ...             \n",
       "20004                        0          ...             \n",
       "\n",
       "       auth_Miguel de Cervantes  auth_Nathaniel Hawthorne  \\\n",
       "20000                         0                         0   \n",
       "20001                         0                         0   \n",
       "20002                         0                         0   \n",
       "20003                         0                         0   \n",
       "20004                         0                         0   \n",
       "\n",
       "       auth_Olaudah Equiano  auth_Ralph Waldo Emerson  \\\n",
       "20000                     0                         0   \n",
       "20001                     0                         0   \n",
       "20002                     0                         0   \n",
       "20003                     0                         0   \n",
       "20004                     0                         0   \n",
       "\n",
       "       auth_Robert Louis Stevenson  auth_Samuel Johnson  \\\n",
       "20000                            1                    0   \n",
       "20001                            1                    0   \n",
       "20002                            1                    0   \n",
       "20003                            1                    0   \n",
       "20004                            1                    0   \n",
       "\n",
       "       auth_Samuel Richardson  auth_Sigmund Freud  auth_Thomas Carlyle  \\\n",
       "20000                       0                   0                    0   \n",
       "20001                       0                   0                    0   \n",
       "20002                       0                   0                    0   \n",
       "20003                       0                   0                    0   \n",
       "20004                       0                   0                    0   \n",
       "\n",
       "       auth_W. E. B. Du Bois  \n",
       "20000                      0  \n",
       "20001                      0  \n",
       "20002                      0  \n",
       "20003                      0  \n",
       "20004                      0  \n",
       "\n",
       "[5 rows x 48 columns]"
      ]
     },
     "execution_count": 6,
     "metadata": {},
     "output_type": "execute_result"
    }
   ],
   "source": [
    "auth_dummy = pd.get_dummies(df['author'], prefix='auth')\n",
    "df = pd.concat([df, auth_dummy], axis=1)\n",
    "df[20000:20005]"
   ]
  },
  {
   "cell_type": "code",
   "execution_count": 7,
   "metadata": {
    "collapsed": false
   },
   "outputs": [
    {
     "data": {
      "text/plain": [
       "(227426, 48)"
      ]
     },
     "execution_count": 7,
     "metadata": {},
     "output_type": "execute_result"
    }
   ],
   "source": [
    "df.shape"
   ]
  },
  {
   "cell_type": "code",
   "execution_count": 8,
   "metadata": {
    "collapsed": false
   },
   "outputs": [
    {
     "data": {
      "text/plain": [
       "DecisionTreeClassifier(class_weight=None, criterion='gini', max_depth=2,\n",
       "            max_features=None, max_leaf_nodes=None,\n",
       "            min_impurity_split=1e-07, min_samples_leaf=1,\n",
       "            min_samples_split=2, min_weight_fraction_leaf=0.0,\n",
       "            presort=False, random_state=None, splitter='best')"
      ]
     },
     "execution_count": 8,
     "metadata": {},
     "output_type": "execute_result"
    }
   ],
   "source": [
    "from sklearn.tree import DecisionTreeClassifier\n",
    "model = DecisionTreeClassifier(max_depth = 2)\n",
    "predictors = ['sentence_length', 'question', 'ex_point', 'colon', 'semi_colon']\n",
    "X = df[predictors]\n",
    "y = df['auth_Ann Radcliffe']\n",
    "model.fit(X,y)"
   ]
  },
  {
   "cell_type": "code",
   "execution_count": 9,
   "metadata": {
    "collapsed": false
   },
   "outputs": [
    {
     "data": {
      "text/plain": [
       "[('sentence_length', 0.7125749161227739),\n",
       " ('question', 0.0),\n",
       " ('ex_point', 0.18241580501831919),\n",
       " ('colon', 0.10500927885890703),\n",
       " ('semi_colon', 0.0)]"
      ]
     },
     "execution_count": 9,
     "metadata": {},
     "output_type": "execute_result"
    }
   ],
   "source": [
    "zip(predictors, model.feature_importances_)"
   ]
  },
  {
   "cell_type": "code",
   "execution_count": 10,
   "metadata": {
    "collapsed": true
   },
   "outputs": [],
   "source": [
    "auth_dummies = ['auth_Ann Radcliffe',\n",
    " 'auth_Arthur Conan Doyle',\n",
    " 'auth_Charles Darwin',\n",
    " 'auth_Charles Dickens',\n",
    " 'auth_Charlotte Perkins Gilman',\n",
    " 'auth_David Hume',\n",
    " 'auth_Edith Wharton',\n",
    " 'auth_Franz Kafka',\n",
    " 'auth_Frederick Douglass',\n",
    " 'auth_Frederick Jackson Turner',\n",
    " 'auth_Fyodor Dostoyevsky',\n",
    " 'auth_George Eliot',\n",
    " 'auth_H. G. Wells',\n",
    " 'auth_Harriet Beecher Stowe',\n",
    " 'auth_Henry David Thoreau',\n",
    " 'auth_Henry Fielding',\n",
    " 'auth_Henry James',\n",
    " 'auth_Herman Melville',\n",
    " 'auth_Jack London',\n",
    " 'auth_James Boswell',\n",
    " 'auth_James Fenimore Cooper',\n",
    " 'auth_Jane Austen',\n",
    " 'auth_John Stuart Mill',\n",
    " 'auth_Jonathan Swift',\n",
    " 'auth_Joseph Conrad',\n",
    " 'auth_Leo Tolstoy',\n",
    " 'auth_Lewis Carroll',\n",
    " 'auth_Mark Twain',\n",
    " 'auth_Mary Rowlandson',\n",
    " 'auth_Mary Shelley',\n",
    " 'auth_Miguel de Cervantes',\n",
    " 'auth_Nathaniel Hawthorne',\n",
    " 'auth_Olaudah Equiano',\n",
    " 'auth_Ralph Waldo Emerson',\n",
    " 'auth_Robert Louis Stevenson',\n",
    " 'auth_Samuel Johnson',\n",
    " 'auth_Samuel Richardson',\n",
    " 'auth_Sigmund Freud',\n",
    " 'auth_Thomas Carlyle',\n",
    " 'auth_W. E. B. Du Bois']\n",
    "\n",
    "auth_feat_imp = {}\n",
    "for auth in auth_dummies:\n",
    "    model = DecisionTreeClassifier(max_depth = 3)\n",
    "    predictors = ['sentence_length', 'question', 'ex_point', 'colon', 'semi_colon']\n",
    "    X = df[predictors]\n",
    "    y = df[auth]\n",
    "    model.fit(X,y)\n",
    "    auth_feat_imp[auth] = model.feature_importances_"
   ]
  },
  {
   "cell_type": "code",
   "execution_count": 11,
   "metadata": {
    "collapsed": false
   },
   "outputs": [
    {
     "name": "stdout",
     "output_type": "stream",
     "text": [
      "{'auth_Herman Melville': array([ 0.24050509,  0.        ,  0.3924642 ,  0.05526672,  0.31176399]), 'auth_Mary Rowlandson': array([ 0.79144933,  0.07141055,  0.13714012,  0.        ,  0.        ]), 'auth_Mary Shelley': array([ 0.81286558,  0.        ,  0.03911085,  0.14802357,  0.        ]), 'auth_Lewis Carroll': array([ 0.34858238,  0.16595575,  0.39193708,  0.09352479,  0.        ]), 'auth_Fyodor Dostoyevsky': array([  7.29143475e-01,   0.00000000e+00,   0.00000000e+00,\n",
      "         2.75570864e-04,   2.70580954e-01]), 'auth_Arthur Conan Doyle': array([ 0.21010427,  0.        ,  0.12757273,  0.        ,  0.662323  ]), 'auth_Mark Twain': array([ 0.35141262,  0.1328224 ,  0.        ,  0.41017428,  0.1055907 ]), 'auth_Frederick Douglass': array([ 0.57140543,  0.38803948,  0.03752514,  0.        ,  0.00302995]), 'auth_Samuel Richardson': array([ 0.101078  ,  0.        ,  0.29897397,  0.35596752,  0.24398051]), 'auth_Olaudah Equiano': array([ 0.39221824,  0.        ,  0.        ,  0.07393238,  0.53384938]), 'auth_H. G. Wells': array([  3.08921254e-01,   2.23978420e-01,   2.42758685e-04,\n",
      "         1.61220832e-03,   4.65245359e-01]), 'auth_Nathaniel Hawthorne': array([ 0.32858006,  0.        ,  0.29509892,  0.        ,  0.37632101]), 'auth_Charles Darwin': array([ 0.9399559 ,  0.        ,  0.04763148,  0.        ,  0.01241261]), 'auth_Samuel Johnson': array([ 0.84440203,  0.        ,  0.1542371 ,  0.        ,  0.00136086]), 'auth_James Fenimore Cooper': array([ 0.87889982,  0.        ,  0.12110018,  0.        ,  0.        ]), 'auth_Frederick Jackson Turner': array([ 0.78340485,  0.        ,  0.01525494,  0.20134021,  0.        ]), 'auth_Henry James': array([ 0.60601144,  0.        ,  0.04215787,  0.        ,  0.35183068]), 'auth_Harriet Beecher Stowe': array([ 0.2472451 ,  0.        ,  0.54532523,  0.1347256 ,  0.07270407]), 'auth_Miguel de Cervantes': array([ 0.91354572,  0.00985947,  0.        ,  0.07659482,  0.        ]), 'auth_David Hume': array([ 0.75984503,  0.        ,  0.24015497,  0.        ,  0.        ]), 'auth_George Eliot': array([ 0.01718326,  0.        ,  0.39178887,  0.1951312 ,  0.39589668]), 'auth_Henry Fielding': array([ 0.42967104,  0.02187298,  0.        ,  0.        ,  0.54845599]), 'auth_Edith Wharton': array([ 0.43887796,  0.07499178,  0.0492346 ,  0.42976617,  0.00712949]), 'auth_James Boswell': array([ 0.72618216,  0.01647194,  0.2573459 ,  0.        ,  0.        ]), 'auth_Sigmund Freud': array([ 0.53922399,  0.        ,  0.20066023,  0.        ,  0.26011578]), 'auth_Jonathan Swift': array([ 0.8411162 ,  0.        ,  0.05080429,  0.10807951,  0.        ]), 'auth_Ann Radcliffe': array([ 0.75792504,  0.00173056,  0.15253581,  0.08780859,  0.        ]), 'auth_W. E. B. Du Bois': array([ 0.91263768,  0.        ,  0.07287929,  0.        ,  0.01448304]), 'auth_Jack London': array([ 0.41583169,  0.28760037,  0.29169134,  0.00487659,  0.        ]), 'auth_Leo Tolstoy': array([ 0.26649386,  0.        ,  0.04719938,  0.        ,  0.68630676]), 'auth_Thomas Carlyle': array([ 0.        ,  0.23435993,  0.        ,  0.45853847,  0.3071016 ]), 'auth_Henry David Thoreau': array([ 0.79561503,  0.        ,  0.00277869,  0.20160628,  0.        ]), 'auth_John Stuart Mill': array([ 0.90564936,  0.        ,  0.        ,  0.06968619,  0.02466445]), 'auth_Ralph Waldo Emerson': array([ 0.6135217,  0.       ,  0.3864783,  0.       ,  0.       ]), 'auth_Charlotte Perkins Gilman': array([ 0.65295159,  0.05526644,  0.29178197,  0.        ,  0.        ]), 'auth_Jane Austen': array([ 0.42503056,  0.        ,  0.4156657 ,  0.03452715,  0.1247766 ]), 'auth_Charles Dickens': array([ 0.8805533,  0.       ,  0.       ,  0.       ,  0.1194467]), 'auth_Robert Louis Stevenson': array([ 0.93457437,  0.06542563,  0.        ,  0.        ,  0.        ]), 'auth_Franz Kafka': array([ 0.5593788 ,  0.        ,  0.        ,  0.08399958,  0.35662162]), 'auth_Joseph Conrad': array([ 0.29191545,  0.15171494,  0.        ,  0.        ,  0.5563696 ])}\n"
     ]
    }
   ],
   "source": [
    "print auth_feat_imp"
   ]
  },
  {
   "cell_type": "markdown",
   "metadata": {},
   "source": [
    "### Book Data"
   ]
  },
  {
   "cell_type": "code",
   "execution_count": 15,
   "metadata": {
    "collapsed": false
   },
   "outputs": [
    {
     "data": {
      "text/html": [
       "<div>\n",
       "<table border=\"1\" class=\"dataframe\">\n",
       "  <thead>\n",
       "    <tr style=\"text-align: right;\">\n",
       "      <th></th>\n",
       "      <th>text</th>\n",
       "    </tr>\n",
       "  </thead>\n",
       "  <tbody>\n",
       "    <tr>\n",
       "      <th>callofthewild</th>\n",
       "      <td>Buck did not read the newspapers, or he would ...</td>\n",
       "    </tr>\n",
       "    <tr>\n",
       "      <th>frontierinamericanhistory</th>\n",
       "      <td>In a recent bulletin of the Superintendent of ...</td>\n",
       "    </tr>\n",
       "    <tr>\n",
       "      <th>ontheoriginofspecies</th>\n",
       "      <td>When on board H.M.S. 'Beagle,' as naturalist, ...</td>\n",
       "    </tr>\n",
       "    <tr>\n",
       "      <th>waroftheworlds</th>\n",
       "      <td>No one would have believed in the last years o...</td>\n",
       "    </tr>\n",
       "    <tr>\n",
       "      <th>walden</th>\n",
       "      <td>When I wrote the following pages, or rather th...</td>\n",
       "    </tr>\n",
       "  </tbody>\n",
       "</table>\n",
       "</div>"
      ],
      "text/plain": [
       "                                                                        text\n",
       "callofthewild              Buck did not read the newspapers, or he would ...\n",
       "frontierinamericanhistory  In a recent bulletin of the Superintendent of ...\n",
       "ontheoriginofspecies       When on board H.M.S. 'Beagle,' as naturalist, ...\n",
       "waroftheworlds             No one would have believed in the last years o...\n",
       "walden                     When I wrote the following pages, or rather th..."
      ]
     },
     "execution_count": 15,
     "metadata": {},
     "output_type": "execute_result"
    }
   ],
   "source": [
    "authorwords = {}\n",
    "\n",
    "for title in title_keys:\n",
    "\tbook = open(texts[title]).read().decode('UTF8')\n",
    "\tauthorwords[title] = book\n",
    "\n",
    "\n",
    "df = pd.DataFrame.from_dict(authorwords, orient = 'index', dtype = None)\n",
    "df.columns = ['text']\n",
    "\n",
    "df.head()"
   ]
  },
  {
   "cell_type": "code",
   "execution_count": 17,
   "metadata": {
    "collapsed": false
   },
   "outputs": [
    {
     "data": {
      "text/plain": [
       "callofthewild                buck did not read the newspapers, or he would ...\n",
       "frontierinamericanhistory    in a recent bulletin of the superintendent of ...\n",
       "ontheoriginofspecies         when on board h.m.s. 'beagle,' as naturalist, ...\n",
       "waroftheworlds               no one would have believed in the last years o...\n",
       "walden                       when i wrote the following pages, or rather th...\n",
       "Name: text, dtype: object"
      ]
     },
     "execution_count": 17,
     "metadata": {},
     "output_type": "execute_result"
    }
   ],
   "source": [
    "text = df.text\n",
    "lower_text = text.str.lower()\n",
    "lower_text.head()"
   ]
  },
  {
   "cell_type": "code",
   "execution_count": 18,
   "metadata": {
    "collapsed": false
   },
   "outputs": [
    {
     "data": {
      "text/plain": [
       "callofthewild                buck did read newspapers, known trouble brewin...\n",
       "frontierinamericanhistory    recent bulletin superintendent census 1890 app...\n",
       "ontheoriginofspecies         board h.m.s. 'beagle,' naturalist, struck cert...\n",
       "waroftheworlds               believed years nineteenth century world watche...\n",
       "walden                       wrote following pages, bulk them, lived alone,...\n",
       "Name: text, dtype: object"
      ]
     },
     "execution_count": 18,
     "metadata": {},
     "output_type": "execute_result"
    }
   ],
   "source": [
    "from sklearn.feature_extraction.stop_words import ENGLISH_STOP_WORDS\n",
    "from nltk.stem.snowball import SnowballStemmer\n",
    "import string\n",
    "\n",
    "def remove_stopwords(content):\n",
    "\tcleaned = filter(lambda x: x not in ENGLISH_STOP_WORDS, content.split())\n",
    "\treturn ' '.join(cleaned)\n",
    "text = lower_text.apply(remove_stopwords)\n",
    "\n",
    "text.head()"
   ]
  },
  {
   "cell_type": "code",
   "execution_count": 19,
   "metadata": {
    "collapsed": false
   },
   "outputs": [
    {
     "data": {
      "text/plain": [
       "callofthewild                buck did read newspapers known trouble brewing...\n",
       "frontierinamericanhistory    recent bulletin superintendent census  appear ...\n",
       "ontheoriginofspecies         board hms beagle naturalist struck certain fac...\n",
       "waroftheworlds               believed years nineteenth century world watche...\n",
       "walden                       wrote following pages bulk them lived alone wo...\n",
       "Name: text, dtype: object"
      ]
     },
     "execution_count": 19,
     "metadata": {},
     "output_type": "execute_result"
    }
   ],
   "source": [
    "def remove_punctuation(content):\n",
    "\treturn filter(lambda x: x in string.ascii_letters+\" \", content)\n",
    "text = text.apply(remove_punctuation)\n",
    "text.head()\n"
   ]
  },
  {
   "cell_type": "code",
   "execution_count": 20,
   "metadata": {
    "collapsed": false
   },
   "outputs": [
    {
     "data": {
      "text/plain": [
       "callofthewild                buck did read newspap known troubl brew himsel...\n",
       "frontierinamericanhistory    recent bulletin superintend census appear sign...\n",
       "ontheoriginofspecies         board hms beagl naturalist struck certain fact...\n",
       "waroftheworlds               believ year nineteenth centuri world watch kee...\n",
       "walden                       wrote follow page bulk them live alon wood mil...\n",
       "Name: text, dtype: object"
      ]
     },
     "execution_count": 20,
     "metadata": {},
     "output_type": "execute_result"
    }
   ],
   "source": [
    "stemmer = SnowballStemmer('english')\n",
    "\n",
    "def stem_words(content):\n",
    "\tstemmed_words = [stemmer.stem(word) for word in content.split()]\n",
    "\treturn \" \".join(stemmed_words)\n",
    "text = text.apply(stem_words)\n",
    "text.head()"
   ]
  },
  {
   "cell_type": "raw",
   "metadata": {},
   "source": [
    "def lexdiverse(content):\n",
    "\ttokens = nltk.word_tokenize(content)\n",
    "\tlex_div = len(set(tokens))/len(tokens)\n",
    "\treturn lex_div\n",
    "\n",
    "lexical_diversity = text.apply(lexdiverse)\n",
    "lexical_diversity.head()"
   ]
  },
  {
   "cell_type": "code",
   "execution_count": 26,
   "metadata": {
    "collapsed": false
   },
   "outputs": [
    {
     "data": {
      "text/plain": [
       "matrix([[ 0.        ,  0.        ,  0.        , ...,  0.        ,\n",
       "          0.        ,  0.        ],\n",
       "        [ 0.        ,  0.        ,  0.        , ...,  0.        ,\n",
       "          0.        ,  0.        ],\n",
       "        [ 0.        ,  0.        ,  0.        , ...,  0.        ,\n",
       "          0.        ,  0.        ],\n",
       "        ..., \n",
       "        [ 0.        ,  0.        ,  0.        , ...,  0.        ,\n",
       "          0.00230725,  0.        ],\n",
       "        [ 0.        ,  0.        ,  0.        , ...,  0.        ,\n",
       "          0.        ,  0.        ],\n",
       "        [ 0.        ,  0.        ,  0.        , ...,  0.        ,\n",
       "          0.        ,  0.        ]])"
      ]
     },
     "execution_count": 26,
     "metadata": {},
     "output_type": "execute_result"
    }
   ],
   "source": [
    "from sklearn.feature_extraction.text import CountVectorizer\n",
    "\n",
    "vectorizer = CountVectorizer()\n",
    "count_vect = CountVectorizer()\n",
    "counts = count_vect.fit_transform(text)\n",
    "\n",
    "from sklearn.feature_extraction.text import TfidfTransformer\n",
    "tf_transformer = TfidfTransformer(use_idf=True).fit(counts)\n",
    "tf_idf = tf_transformer.transform(counts)\n",
    "\n",
    "tf_idf.todense()\n",
    "\n",
    "\n"
   ]
  },
  {
   "cell_type": "code",
   "execution_count": 27,
   "metadata": {
    "collapsed": false
   },
   "outputs": [],
   "source": [
    "vectorizer.fit(df['text'])\n",
    "X = vectorizer.transform(df['text'])"
   ]
  },
  {
   "cell_type": "code",
   "execution_count": 29,
   "metadata": {
    "collapsed": false
   },
   "outputs": [
    {
     "name": "stdout",
     "output_type": "stream",
     "text": [
      "Topic #0:\n",
      "sexual mr emily tom got master st went tell woman ll took lady nature miss came don going words power\n",
      "Topic #1:\n",
      "don sancho quixote father came thou went mr ll tell lady god master mrs took going ve dear thee night\n",
      "Topic #2:\n",
      "mr don went mrs species came ll going oh sir wife tell alice yes ve got father nature husband night\n",
      "Topic #3:\n",
      "emily mr came isabel sexual night went father ve don tell appeared present ll mrs lord woman miss door going\n",
      "Topic #4:\n",
      "mr species emily father don came mrs nature went ll master going dear took lady night words door tell got\n",
      "Topic #5:\n",
      "came went species water emily present father tell god west don mr lady frontier nature states land american thou mrs\n",
      "Topic #6:\n",
      "mr came tell went don took yes father night got dorothea holmes mrs nature words oh door round wife ll\n",
      "Topic #7:\n",
      "mr sir don johnson came went mrs tell ll got master dear miss going mother father yes god woman took\n",
      "Topic #8:\n",
      "mr got ll don says went mrs tell ve going oh came father whale tom miss yes didn night took\n",
      "Topic #9:\n",
      "johnson sir mr mrs emily whale came night dr don tell father lady answered round adams yes gentleman took thou\n",
      "Series([], Name: text, dtype: object)\n"
     ]
    }
   ],
   "source": [
    "from sklearn.decomposition import LatentDirichletAllocation\n",
    "authorwords = {}\n",
    "\n",
    "for title in title_keys:\n",
    "\tbook = open(texts[title]).read().decode('UTF8')\n",
    "\tauthorwords[title] = book\n",
    "\n",
    "\n",
    "df = pd.DataFrame.from_dict(authorwords, orient = 'index', dtype = None)\n",
    "df.columns = ['text']\n",
    "text = df.text\n",
    "#lower_text = text.str.lower()\n",
    "\n",
    "\n",
    "\n",
    "n_samples = 2000\n",
    "n_features = 1000\n",
    "\n",
    "n_topics = 10\n",
    "n_top_words = 20\n",
    "\n",
    "\n",
    "dataset = df\n",
    "\n",
    "data_samples = dataset.text[:n_samples]\n",
    "\n",
    "tf_vectorizer = CountVectorizer(max_df=.95, min_df=2, \n",
    "\t\t\t\t\t\t\t\tmax_features = n_features, \n",
    "\t\t\t\t\t\t\t\tstop_words = 'english')\n",
    "\n",
    "tf = tf_vectorizer.fit_transform(data_samples)\n",
    "\n",
    "lda = LatentDirichletAllocation(n_topics = n_topics, max_iter=1, \n",
    "\t\t\t\t\t\t\t\tlearning_method='online',\n",
    "\t\t\t\t\t\t\t\trandom_state=0)\n",
    "\n",
    "lda.fit(tf)\n",
    "\n",
    "tf_feature_names = tf_vectorizer.get_feature_names()\n",
    "\n",
    "normalized_components = lda.components_ / lda.components_.sum(axis=1)[:,None]\n",
    "\n",
    "for topic_idx, topic in enumerate(normalized_components):\n",
    "\tprint \"Topic #%d:\" % topic_idx\n",
    "\ttopic_words = [tf_feature_names[i] for i in topic.argsort()[:-n_top_words-1:-1]]\n",
    "\tprint \" \".join(topic_words)\n",
    "\n",
    "test_samples = lower_text[n_samples:n_samples+1]\n",
    "test_tf = tf_vectorizer.transform(test_samples)\n",
    "#print lda.transform(test_tf)[0]\n",
    "print test_samples"
   ]
  },
  {
   "cell_type": "code",
   "execution_count": null,
   "metadata": {
    "collapsed": true
   },
   "outputs": [],
   "source": []
  }
 ],
 "metadata": {
  "kernelspec": {
   "display_name": "Python 2",
   "language": "python",
   "name": "python2"
  },
  "language_info": {
   "codemirror_mode": {
    "name": "ipython",
    "version": 2
   },
   "file_extension": ".py",
   "mimetype": "text/x-python",
   "name": "python",
   "nbconvert_exporter": "python",
   "pygments_lexer": "ipython2",
   "version": "2.7.13"
  }
 },
 "nbformat": 4,
 "nbformat_minor": 2
}
